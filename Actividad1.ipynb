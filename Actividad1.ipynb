{
 "cells": [
  {
   "cell_type": "code",
   "execution_count": 1,
   "metadata": {},
   "outputs": [],
   "source": [
    "#Carga de librerias\n",
    "import pandas as pd\n",
    "import numpy as np\n",
    "import matplotlib.pyplot as plt\n",
    "import pandas as pd\n",
    "import seaborn as sns\n",
    "import statsmodels.formula.api as smf"
   ]
  },
  {
   "cell_type": "markdown",
   "metadata": {},
   "source": [
    "2. Agregar el archivo: diamonds.csv"
   ]
  },
  {
   "cell_type": "code",
   "execution_count": 2,
   "metadata": {},
   "outputs": [
    {
     "data": {
      "text/html": [
       "<div>\n",
       "<style scoped>\n",
       "    .dataframe tbody tr th:only-of-type {\n",
       "        vertical-align: middle;\n",
       "    }\n",
       "\n",
       "    .dataframe tbody tr th {\n",
       "        vertical-align: top;\n",
       "    }\n",
       "\n",
       "    .dataframe thead th {\n",
       "        text-align: right;\n",
       "    }\n",
       "</style>\n",
       "<table border=\"1\" class=\"dataframe\">\n",
       "  <thead>\n",
       "    <tr style=\"text-align: right;\">\n",
       "      <th></th>\n",
       "      <th>carat</th>\n",
       "      <th>cut</th>\n",
       "      <th>color</th>\n",
       "      <th>clarity</th>\n",
       "      <th>depth</th>\n",
       "      <th>table</th>\n",
       "      <th>price</th>\n",
       "      <th>x</th>\n",
       "      <th>y</th>\n",
       "      <th>z</th>\n",
       "    </tr>\n",
       "  </thead>\n",
       "  <tbody>\n",
       "    <tr>\n",
       "      <th>0</th>\n",
       "      <td>0.23</td>\n",
       "      <td>Ideal</td>\n",
       "      <td>E</td>\n",
       "      <td>SI2</td>\n",
       "      <td>61.5</td>\n",
       "      <td>55.0</td>\n",
       "      <td>326.0</td>\n",
       "      <td>3.95</td>\n",
       "      <td>3.98</td>\n",
       "      <td>2.43</td>\n",
       "    </tr>\n",
       "    <tr>\n",
       "      <th>1</th>\n",
       "      <td>0.21</td>\n",
       "      <td>Premium</td>\n",
       "      <td>E</td>\n",
       "      <td>SI1</td>\n",
       "      <td>59.8</td>\n",
       "      <td>61.0</td>\n",
       "      <td>326.0</td>\n",
       "      <td>3.89</td>\n",
       "      <td>3.84</td>\n",
       "      <td>2.31</td>\n",
       "    </tr>\n",
       "    <tr>\n",
       "      <th>2</th>\n",
       "      <td>0.23</td>\n",
       "      <td>Good</td>\n",
       "      <td>E</td>\n",
       "      <td>VS1</td>\n",
       "      <td>56.9</td>\n",
       "      <td>65.0</td>\n",
       "      <td>327.0</td>\n",
       "      <td>4.05</td>\n",
       "      <td>4.07</td>\n",
       "      <td>2.31</td>\n",
       "    </tr>\n",
       "    <tr>\n",
       "      <th>3</th>\n",
       "      <td>0.29</td>\n",
       "      <td>Premium</td>\n",
       "      <td>I</td>\n",
       "      <td>VS2</td>\n",
       "      <td>62.4</td>\n",
       "      <td>58.0</td>\n",
       "      <td>334.0</td>\n",
       "      <td>4.20</td>\n",
       "      <td>4.23</td>\n",
       "      <td>2.63</td>\n",
       "    </tr>\n",
       "    <tr>\n",
       "      <th>4</th>\n",
       "      <td>0.31</td>\n",
       "      <td>Good</td>\n",
       "      <td>J</td>\n",
       "      <td>SI2</td>\n",
       "      <td>63.3</td>\n",
       "      <td>58.0</td>\n",
       "      <td>335.0</td>\n",
       "      <td>4.34</td>\n",
       "      <td>4.35</td>\n",
       "      <td>2.75</td>\n",
       "    </tr>\n",
       "  </tbody>\n",
       "</table>\n",
       "</div>"
      ],
      "text/plain": [
       "   carat      cut color clarity  depth  table  price     x     y     z\n",
       "0   0.23    Ideal     E     SI2   61.5   55.0  326.0  3.95  3.98  2.43\n",
       "1   0.21  Premium     E     SI1   59.8   61.0  326.0  3.89  3.84  2.31\n",
       "2   0.23     Good     E     VS1   56.9   65.0  327.0  4.05  4.07  2.31\n",
       "3   0.29  Premium     I     VS2   62.4   58.0  334.0  4.20  4.23  2.63\n",
       "4   0.31     Good     J     SI2   63.3   58.0  335.0  4.34  4.35  2.75"
      ]
     },
     "execution_count": 2,
     "metadata": {},
     "output_type": "execute_result"
    }
   ],
   "source": [
    "#Carga de base de datos \n",
    "df= pd.read_csv(\"diamonds.csv\")\n",
    "df.head(5)"
   ]
  },
  {
   "cell_type": "markdown",
   "metadata": {},
   "source": [
    "3. Aplicar las acciones de preprocesamiento pertinentes “Nulos y Outliers”"
   ]
  },
  {
   "cell_type": "code",
   "execution_count": 3,
   "metadata": {},
   "outputs": [
    {
     "data": {
      "text/plain": [
       "carat      3\n",
       "cut        0\n",
       "color      0\n",
       "clarity    0\n",
       "depth      2\n",
       "table      3\n",
       "price      3\n",
       "x          1\n",
       "y          1\n",
       "z          4\n",
       "dtype: int64"
      ]
     },
     "execution_count": 3,
     "metadata": {},
     "output_type": "execute_result"
    }
   ],
   "source": [
    "#Identificación de valores nulos\n",
    "valornulls=df.isnull().sum()\n",
    "valornulls"
   ]
  },
  {
   "cell_type": "code",
   "execution_count": 4,
   "metadata": {},
   "outputs": [],
   "source": [
    "#media \n",
    "df[\"carat\"]=df[\"carat\"].fillna(round(df[\"carat\"].mean(),2))\n",
    "#mediana\n",
    "df[\"depth\"]=df[\"depth\"].fillna(round(df[\"depth\"].median(),1))\n",
    "#mediana\n",
    "df[\"table\"]=df[\"table\"].fillna(round(df[\"table\"].median(),0))\n",
    "#mediana\n",
    "df[\"price\"]=df[\"price\"].fillna(round(df[\"price\"].median(),2))\n",
    "#media\n",
    "df[\"x\"]=df[\"x\"].fillna(round(df[\"x\"].median(),2))\n",
    "#media\n",
    "df[\"y\"]=df[\"y\"].fillna(round(df[\"y\"].mean(),2))\n",
    "#media\n",
    "df[\"z\"]=df[\"z\"].fillna(round(df[\"z\"].mean(),2))"
   ]
  },
  {
   "cell_type": "code",
   "execution_count": 5,
   "metadata": {},
   "outputs": [
    {
     "data": {
      "text/plain": [
       "carat      0\n",
       "cut        0\n",
       "color      0\n",
       "clarity    0\n",
       "depth      0\n",
       "table      0\n",
       "price      0\n",
       "x          0\n",
       "y          0\n",
       "z          0\n",
       "dtype: int64"
      ]
     },
     "execution_count": 5,
     "metadata": {},
     "output_type": "execute_result"
    }
   ],
   "source": [
    "#Identificación de valores nulos después de la sustitución\n",
    "valornulls2=df.isnull().sum()\n",
    "valornulls2"
   ]
  },
  {
   "cell_type": "code",
   "execution_count": 6,
   "metadata": {},
   "outputs": [
    {
     "data": {
      "text/plain": [
       "<Figure size 1080x576 with 0 Axes>"
      ]
     },
     "metadata": {},
     "output_type": "display_data"
    },
    {
     "data": {
      "image/png": "[encoded data removed]",
      "text/plain": [
       "<Figure size 432x288 with 1 Axes>"
      ]
     },
     "metadata": {
      "needs_background": "light"
     },
     "output_type": "display_data"
    }
   ],
   "source": [
    "#Tratado de Outliers\n",
    "fig = plt.figure(figsize =(15, 8))\n",
    "df.plot(kind='box', vert=False)\n",
    "plt.title(\"Valores Atípicos del Dataframe\")\n",
    "plt.show()"
   ]
  },
  {
   "cell_type": "code",
   "execution_count": 9,
   "metadata": {},
   "outputs": [
    {
     "name": "stdout",
     "output_type": "stream",
     "text": [
      "Limite superior permitido 2.2199529087395717\n",
      "Limite inferior permitido -0.6240897274270025\n"
     ]
    }
   ],
   "source": [
    "#Desviación estandar\n",
    "#Primera variable: carat\n",
    "carat=df[\"carat\"]\n",
    "limitecarasuperior= carat.mean() + 3*carat.std()\n",
    "limitecarainferior= carat.mean() - 3*carat.std()\n",
    "print(\"Limite superior permitido\", limitecarasuperior)\n",
    "print(\"Limite inferior permitido\", limitecarainferior)"
   ]
  },
  {
   "cell_type": "code",
   "execution_count": 11,
   "metadata": {},
   "outputs": [
    {
     "name": "stderr",
     "output_type": "stream",
     "text": [
      "/var/folders/nc/68rf91wx2pjbt67gbj6chn7h0000gn/T/ipykernel_30410/571952964.py:3: SettingWithCopyWarning: \n",
      "A value is trying to be set on a copy of a slice from a DataFrame.\n",
      "Try using .loc[row_indexer,col_indexer] = value instead\n",
      "\n",
      "See the caveats in the documentation: https://pandas.pydata.org/pandas-docs/stable/user_guide/indexing.html#returning-a-view-versus-a-copy\n",
      "  df2[\"carat\"]=df2[\"carat\"].fillna(round(df[\"carat\"].mean(),2))\n"
     ]
    }
   ],
   "source": [
    "#Sustitución: carat.\n",
    "df2=df[(carat<=limitecarasuperior)&(carat>=limitecarainferior)] \n",
    "df2[\"carat\"]=df2[\"carat\"].fillna(round(df[\"carat\"].mean(),2))"
   ]
  },
  {
   "cell_type": "code",
   "execution_count": 20,
   "metadata": {},
   "outputs": [
    {
     "name": "stdout",
     "output_type": "stream",
     "text": [
      "Limite superior permitido 66.04722027350738\n",
      "Limite inferior permitido 57.451574683852655\n"
     ]
    }
   ],
   "source": [
    "#Desviación estandar\n",
    "#Variable: depth\n",
    "depth=df[\"depth\"]\n",
    "limitedepthsuperior= depth.mean() + 3*depth.std()\n",
    "limitedepthinferior= depth.mean() - 3*depth.std()\n",
    "print(\"Limite superior permitido\", limitedepthsuperior)\n",
    "print(\"Limite inferior permitido\", limitedepthinferior)"
   ]
  },
  {
   "cell_type": "code",
   "execution_count": 21,
   "metadata": {},
   "outputs": [
    {
     "name": "stderr",
     "output_type": "stream",
     "text": [
      "/var/folders/nc/68rf91wx2pjbt67gbj6chn7h0000gn/T/ipykernel_30410/3001063470.py:3: SettingWithCopyWarning: \n",
      "A value is trying to be set on a copy of a slice from a DataFrame.\n",
      "Try using .loc[row_indexer,col_indexer] = value instead\n",
      "\n",
      "See the caveats in the documentation: https://pandas.pydata.org/pandas-docs/stable/user_guide/indexing.html#returning-a-view-versus-a-copy\n",
      "  df2[\"depth\"]=df2[\"depth\"].fillna(round(df[\"depth\"].median(),1))\n"
     ]
    }
   ],
   "source": [
    "#Sustitución:depth\n",
    "df2=df[(depth<=limitedepthsuperior)&(depth>=limitedepthinferior)] \n",
    "df2[\"depth\"]=df2[\"depth\"].fillna(round(df[\"depth\"].median(),1))"
   ]
  },
  {
   "cell_type": "code",
   "execution_count": 22,
   "metadata": {},
   "outputs": [
    {
     "name": "stdout",
     "output_type": "stream",
     "text": [
      "Limite superior permitido 64.16054017079666\n",
      "Limite inferior permitido 50.753938880000526\n"
     ]
    }
   ],
   "source": [
    "#Desviación estandar\n",
    "#Variable: table\n",
    "table=df[\"table\"]\n",
    "limitetablesuperior= table.mean() + 3*table.std()\n",
    "limitetableinferior= table.mean() - 3*table.std()\n",
    "print(\"Limite superior permitido\", limitetablesuperior)\n",
    "print(\"Limite inferior permitido\", limitetableinferior)"
   ]
  },
  {
   "cell_type": "code",
   "execution_count": 23,
   "metadata": {},
   "outputs": [
    {
     "name": "stderr",
     "output_type": "stream",
     "text": [
      "/var/folders/nc/68rf91wx2pjbt67gbj6chn7h0000gn/T/ipykernel_30410/3569210333.py:3: SettingWithCopyWarning: \n",
      "A value is trying to be set on a copy of a slice from a DataFrame.\n",
      "Try using .loc[row_indexer,col_indexer] = value instead\n",
      "\n",
      "See the caveats in the documentation: https://pandas.pydata.org/pandas-docs/stable/user_guide/indexing.html#returning-a-view-versus-a-copy\n",
      "  df2[\"table\"]=df2[\"table\"].fillna(round(df[\"table\"].median(),1))\n"
     ]
    }
   ],
   "source": [
    "#Sustitución:table\n",
    "df2=df[(table<=limitetablesuperior)&(table>=limitetableinferior)] \n",
    "df2[\"table\"]=df2[\"table\"].fillna(round(df[\"table\"].median(),0))"
   ]
  },
  {
   "cell_type": "code",
   "execution_count": 32,
   "metadata": {},
   "outputs": [
    {
     "name": "stdout",
     "output_type": "stream",
     "text": [
      "Limite superior permitido 15901.11828474277\n",
      "Limite inferior permitido -8035.52625656331\n"
     ]
    }
   ],
   "source": [
    "#Desviación estandar\n",
    "#Variable: price\n",
    "price=df[\"price\"]\n",
    "limitepricesuperior= price.mean() + 3*price.std()\n",
    "limitepriceinferior= price.mean() - 3*price.std()\n",
    "print(\"Limite superior permitido\", limitepricesuperior)\n",
    "print(\"Limite inferior permitido\", limitepriceinferior)"
   ]
  },
  {
   "cell_type": "code",
   "execution_count": 35,
   "metadata": {},
   "outputs": [
    {
     "name": "stderr",
     "output_type": "stream",
     "text": [
      "/var/folders/nc/68rf91wx2pjbt67gbj6chn7h0000gn/T/ipykernel_30410/764899253.py:2: SettingWithCopyWarning: \n",
      "A value is trying to be set on a copy of a slice from a DataFrame.\n",
      "Try using .loc[row_indexer,col_indexer] = value instead\n",
      "\n",
      "See the caveats in the documentation: https://pandas.pydata.org/pandas-docs/stable/user_guide/indexing.html#returning-a-view-versus-a-copy\n",
      "  df2[\"price\"]=df2[\"price\"].fillna(round(df[\"price\"].median(),2))\n"
     ]
    }
   ],
   "source": [
    "df2=df[(price<=limitepricesuperior)&(price>=limitepriceinferior)] \n",
    "df2[\"price\"]=df2[\"price\"].fillna(round(df[\"price\"].median(),2))\n"
   ]
  },
  {
   "cell_type": "code",
   "execution_count": 36,
   "metadata": {},
   "outputs": [
    {
     "name": "stdout",
     "output_type": "stream",
     "text": [
      "Limite superior permitido 9.096441194396238\n",
      "Limite inferior permitido 2.3658939928488483\n"
     ]
    }
   ],
   "source": [
    "#Desviación estandar\n",
    "#Variable: x\n",
    "x=df[\"x\"]\n",
    "limitexsuperior= x.mean() + 3*x.std()\n",
    "limitexinferior= x.mean() - 3*x.std()\n",
    "print(\"Limite superior permitido\", limitexsuperior)\n",
    "print(\"Limite inferior permitido\", limitexinferior)"
   ]
  },
  {
   "cell_type": "code",
   "execution_count": 37,
   "metadata": {},
   "outputs": [
    {
     "name": "stderr",
     "output_type": "stream",
     "text": [
      "/var/folders/nc/68rf91wx2pjbt67gbj6chn7h0000gn/T/ipykernel_30410/140211074.py:3: SettingWithCopyWarning: \n",
      "A value is trying to be set on a copy of a slice from a DataFrame.\n",
      "Try using .loc[row_indexer,col_indexer] = value instead\n",
      "\n",
      "See the caveats in the documentation: https://pandas.pydata.org/pandas-docs/stable/user_guide/indexing.html#returning-a-view-versus-a-copy\n",
      "  df2[\"x\"]=df2[\"x\"].fillna(round(df[\"x\"].median(),2))\n"
     ]
    }
   ],
   "source": [
    "#Sustitución:x\n",
    "df2=df[(x<=limitexsuperior)&(x>=limitexinferior)] \n",
    "df2[\"x\"]=df2[\"x\"].fillna(round(df[\"x\"].median(),2))"
   ]
  },
  {
   "cell_type": "code",
   "execution_count": 38,
   "metadata": {},
   "outputs": [
    {
     "name": "stdout",
     "output_type": "stream",
     "text": [
      "Limite superior permitido 9.160929205428292\n",
      "Limite inferior permitido 2.3081212209714113\n"
     ]
    }
   ],
   "source": [
    "#Desviación estandar\n",
    "#Variable: y\n",
    "y=df[\"y\"]\n",
    "limiteysuperior= y.mean() + 3*y.std()\n",
    "limiteyinferior= y.mean() - 3*y.std()\n",
    "print(\"Limite superior permitido\", limiteysuperior)\n",
    "print(\"Limite inferior permitido\", limiteyinferior)"
   ]
  },
  {
   "cell_type": "code",
   "execution_count": 39,
   "metadata": {},
   "outputs": [
    {
     "name": "stderr",
     "output_type": "stream",
     "text": [
      "/var/folders/nc/68rf91wx2pjbt67gbj6chn7h0000gn/T/ipykernel_30410/733239874.py:3: SettingWithCopyWarning: \n",
      "A value is trying to be set on a copy of a slice from a DataFrame.\n",
      "Try using .loc[row_indexer,col_indexer] = value instead\n",
      "\n",
      "See the caveats in the documentation: https://pandas.pydata.org/pandas-docs/stable/user_guide/indexing.html#returning-a-view-versus-a-copy\n",
      "  df2[\"y\"]=df2[\"y\"].fillna(round(df[\"y\"].mean(),2))\n"
     ]
    }
   ],
   "source": [
    "#Sustitución:y\n",
    "df2=df[(y<=limiteysuperior)&(x>=limiteyinferior)] \n",
    "df2[\"y\"]=df2[\"y\"].fillna(round(df[\"y\"].mean(),2))"
   ]
  },
  {
   "cell_type": "code",
   "execution_count": 40,
   "metadata": {},
   "outputs": [
    {
     "name": "stdout",
     "output_type": "stream",
     "text": [
      "Limite superior permitido 5.6557964934019225\n",
      "Limite inferior permitido 1.4216714339247365\n"
     ]
    }
   ],
   "source": [
    "#Desviación estandar\n",
    "#Variable: z\n",
    "z=df[\"z\"]\n",
    "limitezsuperior= z.mean() + 3*z.std()\n",
    "limitezinferior= z.mean() - 3*z.std()\n",
    "print(\"Limite superior permitido\", limitezsuperior)\n",
    "print(\"Limite inferior permitido\", limitezinferior)"
   ]
  },
  {
   "cell_type": "code",
   "execution_count": 41,
   "metadata": {},
   "outputs": [
    {
     "name": "stderr",
     "output_type": "stream",
     "text": [
      "/var/folders/nc/68rf91wx2pjbt67gbj6chn7h0000gn/T/ipykernel_30410/3631844549.py:3: SettingWithCopyWarning: \n",
      "A value is trying to be set on a copy of a slice from a DataFrame.\n",
      "Try using .loc[row_indexer,col_indexer] = value instead\n",
      "\n",
      "See the caveats in the documentation: https://pandas.pydata.org/pandas-docs/stable/user_guide/indexing.html#returning-a-view-versus-a-copy\n",
      "  df2[\"z\"]=df2[\"z\"].fillna(round(df[\"z\"].mean(),2))\n"
     ]
    }
   ],
   "source": [
    "#Sustitución:z\n",
    "df2=df[(z<=limitezsuperior)&(z>=limitezinferior)] \n",
    "df2[\"z\"]=df2[\"z\"].fillna(round(df[\"z\"].mean(),2))"
   ]
  }
 ],
 "metadata": {
  "kernelspec": {
   "display_name": "Python 3.10.6 64-bit",
   "language": "python",
   "name": "python3"
  },
  "language_info": {
   "codemirror_mode": {
    "name": "ipython",
    "version": 3
   },
   "file_extension": ".py",
   "mimetype": "text/x-python",
   "name": "python",
   "nbconvert_exporter": "python",
   "pygments_lexer": "ipython3",
   "version": "3.10.6"
  },
  "orig_nbformat": 4,
  "vscode": {
   "interpreter": {
    "hash": "aee8b7b246df8f9039afb4144a1f6fd8d2ca17a180786b69acc140d282b71a49"
   }
  }
 },
 "nbformat": 4,
 "nbformat_minor": 2
}
